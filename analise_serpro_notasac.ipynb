{
 "cells": [
  {
   "cell_type": "code",
   "execution_count": 3,
   "metadata": {},
   "outputs": [],
   "source": [
    "import pandas as pd\n",
    "import matplotlib.pyplot as plt"
   ]
  },
  {
   "cell_type": "code",
   "execution_count": 1,
   "metadata": {},
   "outputs": [],
   "source": [
    "# Definição de estilo de tabela do Pandas\n",
    "\n",
    "headers = {\n",
    "    \"selector\": \"th:not(.index_name)\",\n",
    "    \"props\": \"background-color: #02607a; color: white; text-align: center\"\n",
    "}\n",
    "properties = {\"border\": \"1px solid black\", \"width\": \"400px\", \"height\": \"30px\", \"text-align\": \"center\"}"
   ]
  },
  {
   "cell_type": "code",
   "execution_count": null,
   "metadata": {},
   "outputs": [],
   "source": [
    "dataset = pd.read_csv(\"data/dataset_ac_serpro.csv\")\n",
    "nota_maxima_prova = 290"
   ]
  },
  {
   "cell_type": "code",
   "execution_count": 5,
   "metadata": {},
   "outputs": [
    {
     "data": {
      "text/html": [
       "<style type=\"text/css\">\n",
       "</style>\n",
       "<table id=\"T_c6ce4\">\n",
       "  <thead>\n",
       "    <tr>\n",
       "      <th id=\"T_c6ce4_level0_col0\" class=\"col_heading level0 col0\" >Nota/AC</th>\n",
       "    </tr>\n",
       "  </thead>\n",
       "  <tbody>\n",
       "    <tr>\n",
       "      <td id=\"T_c6ce4_row0_col0\" class=\"data row0 col0\" >250.000000</td>\n",
       "    </tr>\n",
       "    <tr>\n",
       "      <td id=\"T_c6ce4_row1_col0\" class=\"data row1 col0\" >249.000000</td>\n",
       "    </tr>\n",
       "    <tr>\n",
       "      <td id=\"T_c6ce4_row2_col0\" class=\"data row2 col0\" >248.000000</td>\n",
       "    </tr>\n",
       "    <tr>\n",
       "      <td id=\"T_c6ce4_row3_col0\" class=\"data row3 col0\" >244.000000</td>\n",
       "    </tr>\n",
       "    <tr>\n",
       "      <td id=\"T_c6ce4_row4_col0\" class=\"data row4 col0\" >244.000000</td>\n",
       "    </tr>\n",
       "    <tr>\n",
       "      <td id=\"T_c6ce4_row5_col0\" class=\"data row5 col0\" >244.000000</td>\n",
       "    </tr>\n",
       "    <tr>\n",
       "      <td id=\"T_c6ce4_row6_col0\" class=\"data row6 col0\" >244.000000</td>\n",
       "    </tr>\n",
       "    <tr>\n",
       "      <td id=\"T_c6ce4_row7_col0\" class=\"data row7 col0\" >242.000000</td>\n",
       "    </tr>\n",
       "    <tr>\n",
       "      <td id=\"T_c6ce4_row8_col0\" class=\"data row8 col0\" >242.000000</td>\n",
       "    </tr>\n",
       "    <tr>\n",
       "      <td id=\"T_c6ce4_row9_col0\" class=\"data row9 col0\" >240.000000</td>\n",
       "    </tr>\n",
       "  </tbody>\n",
       "</table>\n"
      ],
      "text/plain": [
       "<pandas.io.formats.style.Styler at 0x7f1c38c75420>"
      ]
     },
     "execution_count": 5,
     "metadata": {},
     "output_type": "execute_result"
    }
   ],
   "source": [
    "dataset.head(n=10).style.hide()"
   ]
  },
  {
   "cell_type": "markdown",
   "metadata": {},
   "source": [
    "## Estatísticas gerais"
   ]
  },
  {
   "cell_type": "code",
   "execution_count": 6,
   "metadata": {},
   "outputs": [
    {
     "data": {
      "text/html": [
       "<style type=\"text/css\">\n",
       "#T_2ecbc th:not(.index_name) {\n",
       "  background-color: #02607a;\n",
       "  color: white;\n",
       "  text-align: center;\n",
       "}\n",
       "#T_2ecbc_row0_col0, #T_2ecbc_row1_col0, #T_2ecbc_row2_col0, #T_2ecbc_row3_col0, #T_2ecbc_row4_col0, #T_2ecbc_row5_col0, #T_2ecbc_row6_col0, #T_2ecbc_row7_col0, #T_2ecbc_row8_col0 {\n",
       "  border: 1px solid black;\n",
       "  width: 400px;\n",
       "  height: 30px;\n",
       "  text-align: center;\n",
       "}\n",
       "</style>\n",
       "<table id=\"T_2ecbc\">\n",
       "  <thead>\n",
       "    <tr>\n",
       "      <th class=\"blank level0\" >&nbsp;</th>\n",
       "      <th id=\"T_2ecbc_level0_col0\" class=\"col_heading level0 col0\" >Nota/AC</th>\n",
       "    </tr>\n",
       "  </thead>\n",
       "  <tbody>\n",
       "    <tr>\n",
       "      <th id=\"T_2ecbc_level0_row0\" class=\"row_heading level0 row0\" >count</th>\n",
       "      <td id=\"T_2ecbc_row0_col0\" class=\"data row0 col0\" >361.00</td>\n",
       "    </tr>\n",
       "    <tr>\n",
       "      <th id=\"T_2ecbc_level0_row1\" class=\"row_heading level0 row1\" >mean</th>\n",
       "      <td id=\"T_2ecbc_row1_col0\" class=\"data row1 col0\" >211.83</td>\n",
       "    </tr>\n",
       "    <tr>\n",
       "      <th id=\"T_2ecbc_level0_row2\" class=\"row_heading level0 row2\" >std</th>\n",
       "      <td id=\"T_2ecbc_row2_col0\" class=\"data row2 col0\" >10.26</td>\n",
       "    </tr>\n",
       "    <tr>\n",
       "      <th id=\"T_2ecbc_level0_row3\" class=\"row_heading level0 row3\" >min</th>\n",
       "      <td id=\"T_2ecbc_row3_col0\" class=\"data row3 col0\" >200.00</td>\n",
       "    </tr>\n",
       "    <tr>\n",
       "      <th id=\"T_2ecbc_level0_row4\" class=\"row_heading level0 row4\" >50%</th>\n",
       "      <td id=\"T_2ecbc_row4_col0\" class=\"data row4 col0\" >209.00</td>\n",
       "    </tr>\n",
       "    <tr>\n",
       "      <th id=\"T_2ecbc_level0_row5\" class=\"row_heading level0 row5\" >90%</th>\n",
       "      <td id=\"T_2ecbc_row5_col0\" class=\"data row5 col0\" >225.00</td>\n",
       "    </tr>\n",
       "    <tr>\n",
       "      <th id=\"T_2ecbc_level0_row6\" class=\"row_heading level0 row6\" >95%</th>\n",
       "      <td id=\"T_2ecbc_row6_col0\" class=\"data row6 col0\" >233.50</td>\n",
       "    </tr>\n",
       "    <tr>\n",
       "      <th id=\"T_2ecbc_level0_row7\" class=\"row_heading level0 row7\" >99%</th>\n",
       "      <td id=\"T_2ecbc_row7_col0\" class=\"data row7 col0\" >244.00</td>\n",
       "    </tr>\n",
       "    <tr>\n",
       "      <th id=\"T_2ecbc_level0_row8\" class=\"row_heading level0 row8\" >max</th>\n",
       "      <td id=\"T_2ecbc_row8_col0\" class=\"data row8 col0\" >250.00</td>\n",
       "    </tr>\n",
       "  </tbody>\n",
       "</table>\n"
      ],
      "text/plain": [
       "<pandas.io.formats.style.Styler at 0x7f5590c635e0>"
      ]
     },
     "execution_count": 6,
     "metadata": {},
     "output_type": "execute_result"
    }
   ],
   "source": [
    "\n",
    "dataset.describe(percentiles=[.9,.95,.99]).style.format(precision=2).set_table_styles([headers]).set_properties(**properties)\n"
   ]
  },
  {
   "cell_type": "markdown",
   "metadata": {},
   "source": [
    "## Menor nota (Nota de corte)"
   ]
  },
  {
   "cell_type": "code",
   "execution_count": 7,
   "metadata": {},
   "outputs": [
    {
     "data": {
      "text/plain": [
       "200.0"
      ]
     },
     "execution_count": 7,
     "metadata": {},
     "output_type": "execute_result"
    }
   ],
   "source": [
    "dataset[\"Nota/AC\"].min()"
   ]
  },
  {
   "cell_type": "markdown",
   "metadata": {},
   "source": [
    "## Maior nota"
   ]
  },
  {
   "cell_type": "code",
   "execution_count": 8,
   "metadata": {},
   "outputs": [
    {
     "data": {
      "text/plain": [
       "250.0"
      ]
     },
     "execution_count": 8,
     "metadata": {},
     "output_type": "execute_result"
    }
   ],
   "source": [
    "dataset[\"Nota/AC\"].max()"
   ]
  },
  {
   "cell_type": "markdown",
   "metadata": {},
   "source": [
    "## Histograma de notas\n"
   ]
  },
  {
   "cell_type": "code",
   "execution_count": null,
   "metadata": {},
   "outputs": [
    {
     "data": {
      "text/plain": [
       "(array([41., 40., 32., 40., 36., 31., 23., 18., 13., 20., 11., 10., 11.,\n",
       "         6.,  6.,  2.,  3.,  1.,  5.,  1.,  2.,  2.,  4.,  0.,  3.]),\n",
       " array([200., 202., 204., 206., 208., 210., 212., 214., 216., 218., 220.,\n",
       "        222., 224., 226., 228., 230., 232., 234., 236., 238., 240., 242.,\n",
       "        244., 246., 248., 250.]),\n",
       " <BarContainer object of 25 artists>)"
      ]
     },
     "execution_count": 20,
     "metadata": {},
     "output_type": "execute_result"
    },
    {
     "data": {
      "text/plain": [
       "<Figure size 800x480 with 0 Axes>"
      ]
     },
     "metadata": {},
     "output_type": "display_data"
    },
    {
     "data": {
      "image/png": "[encoded data removed]",
      "text/plain": [
       "<Figure size 640x400 with 1 Axes>"
      ]
     },
     "metadata": {},
     "output_type": "display_data"
    }
   ],
   "source": [
    "# Histograma de notas\n",
    "\n",
    "plt.hist(dataset[\"Nota/AC\"],bins=25,color='purple',align='mid',alpha=0.7, edgecolor='black')"
   ]
  },
  {
   "cell_type": "markdown",
   "metadata": {},
   "source": [
    "## Histograma de porcentagem de acertos"
   ]
  },
  {
   "cell_type": "code",
   "execution_count": null,
   "metadata": {},
   "outputs": [
    {
     "data": {
      "image/png": "[encoded data removed]",
      "text/plain": [
       "<Figure size 640x480 with 1 Axes>"
      ]
     },
     "metadata": {},
     "output_type": "display_data"
    }
   ],
   "source": [
    "# Histograma de porcentagem de acertos\n",
    "\n",
    "plt.hist((dataset[\"Nota/AC\"]/nota_maxima_prova)*100,bins=20,color='purple',align='mid',alpha=0.7, edgecolor='black')\n",
    "#plt.savefig(\"distribuicao_pct_notas.png\")"
   ]
  },
  {
   "cell_type": "code",
   "execution_count": 10,
   "metadata": {},
   "outputs": [
    {
     "data": {
      "text/plain": [
       "361"
      ]
     },
     "execution_count": 10,
     "metadata": {},
     "output_type": "execute_result"
    }
   ],
   "source": [
    "len(dataset)"
   ]
  },
  {
   "cell_type": "markdown",
   "metadata": {},
   "source": [
    "## Porcentagem de acertos em geral"
   ]
  },
  {
   "cell_type": "code",
   "execution_count": 14,
   "metadata": {},
   "outputs": [
    {
     "data": {
      "text/html": [
       "<style type=\"text/css\">\n",
       "#T_31d96 th:not(.index_name) {\n",
       "  background-color: #02607a;\n",
       "  color: white;\n",
       "  text-align: center;\n",
       "}\n",
       "#T_31d96_row0_col0, #T_31d96_row0_col1, #T_31d96_row0_col2, #T_31d96_row1_col0, #T_31d96_row1_col1, #T_31d96_row1_col2, #T_31d96_row2_col0, #T_31d96_row2_col1, #T_31d96_row2_col2 {\n",
       "  border: 1px solid black;\n",
       "  width: 400px;\n",
       "  height: 30px;\n",
       "  text-align: center;\n",
       "}\n",
       "</style>\n",
       "<table id=\"T_31d96\">\n",
       "  <thead>\n",
       "    <tr>\n",
       "      <th id=\"T_31d96_level0_col0\" class=\"col_heading level0 col0\" >Porcentagem de acerto</th>\n",
       "      <th id=\"T_31d96_level0_col1\" class=\"col_heading level0 col1\" >Frequência</th>\n",
       "      <th id=\"T_31d96_level0_col2\" class=\"col_heading level0 col2\" >Frequência (pct)</th>\n",
       "    </tr>\n",
       "  </thead>\n",
       "  <tbody>\n",
       "    <tr>\n",
       "      <td id=\"T_31d96_row0_col0\" class=\"data row0 col0\" >80% - 89%</td>\n",
       "      <td id=\"T_31d96_row0_col1\" class=\"data row0 col1\" >21</td>\n",
       "      <td id=\"T_31d96_row0_col2\" class=\"data row0 col2\" >5.82</td>\n",
       "    </tr>\n",
       "    <tr>\n",
       "      <td id=\"T_31d96_row1_col0\" class=\"data row1 col0\" >70% - 79%</td>\n",
       "      <td id=\"T_31d96_row1_col1\" class=\"data row1 col1\" >277</td>\n",
       "      <td id=\"T_31d96_row1_col2\" class=\"data row1 col2\" >76.73</td>\n",
       "    </tr>\n",
       "    <tr>\n",
       "      <td id=\"T_31d96_row2_col0\" class=\"data row2 col0\" >60% - 69%</td>\n",
       "      <td id=\"T_31d96_row2_col1\" class=\"data row2 col1\" >63</td>\n",
       "      <td id=\"T_31d96_row2_col2\" class=\"data row2 col2\" >17.45</td>\n",
       "    </tr>\n",
       "  </tbody>\n",
       "</table>\n"
      ],
      "text/plain": [
       "<pandas.io.formats.style.Styler at 0x7f55905e1ed0>"
      ]
     },
     "execution_count": 14,
     "metadata": {},
     "output_type": "execute_result"
    }
   ],
   "source": [
    "contagem_candidatos = len(dataset)\n",
    "soma_aprov_maior_igual_90 = 0\n",
    "soma_aprov_maior_igual_80_menor_90 = 0\n",
    "soma_aprov_maior_igual_70_menor_80 = 0\n",
    "soma_aprov_maior_igual_60_menor_70 = 0\n",
    "soma_aprov_maior_igual_50_menor_60 = 0\n",
    "\n",
    "\n",
    "for nota in list(dataset[\"Nota/AC\"]):\n",
    "    if nota/nota_maxima_prova >= 0.8 and nota/nota_maxima_prova < 0.9:\n",
    "        soma_aprov_maior_igual_80_menor_90 +=1\n",
    "    elif nota/nota_maxima_prova >= 0.7 and nota/nota_maxima_prova < 0.8:\n",
    "        soma_aprov_maior_igual_70_menor_80 +=1\n",
    "    elif nota/nota_maxima_prova >= 0.6 and nota/nota_maxima_prova < 0.7:\n",
    "        soma_aprov_maior_igual_60_menor_70 +=1\n",
    "    \n",
    "pct_dict = {'Porcentagem de acerto': \n",
    "            [\"80% - 89%\", \n",
    "             \"70% - 79%\", \n",
    "             \"60% - 69%\"], \n",
    "            'Frequência': [soma_aprov_maior_igual_80_menor_90,\n",
    "                           soma_aprov_maior_igual_70_menor_80,\n",
    "                           soma_aprov_maior_igual_60_menor_70],\n",
    "            'Frequência (pct)': [\n",
    "                (soma_aprov_maior_igual_80_menor_90/contagem_candidatos)*100,\n",
    "                (soma_aprov_maior_igual_70_menor_80/contagem_candidatos)*100,\n",
    "                (soma_aprov_maior_igual_60_menor_70/contagem_candidatos)*100\n",
    "            ]}\n",
    "\n",
    "df_pct = pd.DataFrame.from_dict(pct_dict)\n",
    "\n",
    "df_pct.style.format(precision=2).set_table_styles([headers]).set_properties(**properties).hide()\n"
   ]
  }
 ],
 "metadata": {
  "kernelspec": {
   "display_name": "usr",
   "language": "python",
   "name": "python3"
  },
  "language_info": {
   "codemirror_mode": {
    "name": "ipython",
    "version": 3
   },
   "file_extension": ".py",
   "mimetype": "text/x-python",
   "name": "python",
   "nbconvert_exporter": "python",
   "pygments_lexer": "ipython3",
   "version": "3.10.12"
  }
 },
 "nbformat": 4,
 "nbformat_minor": 2
}
